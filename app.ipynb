{
  "cells": [
    {
      "cell_type": "code",
      "execution_count": 1,
      "metadata": {
        "id": "Gr3NILuMckat"
      },
      "outputs": [],
      "source": [
        "import cv2\n",
        "import numpy as np\n",
        "import torch\n",
        "import torch.nn as nn\n",
        "import torch.nn.functional as F\n",
        "import torch.optim as optim\n",
        "from torch.utils.data import DataLoader, TensorDataset\n",
        "from torchvision import transforms\n",
        "import os\n",
        "import pandas as pd\n",
        "from torchvision.models import densenet121\n",
        "from torchvision.models import alexnet\n",
        "from tqdm import tqdm\n",
        "import seaborn as sns\n",
        "from sklearn.metrics import classification_report, confusion_matrix, accuracy_score, f1_score, precision_score, recall_score\n",
        "import matplotlib.pyplot as plt"
      ]
    },
    {
      "cell_type": "code",
      "execution_count": 2,
      "metadata": {
        "colab": {
          "base_uri": "https://localhost:8080/"
        },
        "id": "-TYuGdFQclWq",
        "outputId": "b5ed1478-2af2-4e17-fb21-c4e14c47defc"
      },
      "outputs": [
        {
          "output_type": "stream",
          "name": "stdout",
          "text": [
            "Drive already mounted at /content/drive; to attempt to forcibly remount, call drive.mount(\"/content/drive\", force_remount=True).\n"
          ]
        }
      ],
      "source": [
        "# Mount google drive\n",
        "from google.colab import drive\n",
        "drive.mount('/content/drive')\n",
        "import sys\n",
        "sys.path.append('/content/drive/MyDrive/violence-detection')\n",
        "from convlstm import ConvLSTM\n",
        "\n"
      ]
    },
    {
      "cell_type": "code",
      "execution_count": 3,
      "metadata": {
        "id": "bd7v5VXOckaw"
      },
      "outputs": [],
      "source": [
        "# Train data directory\n",
        "directory = '/content/drive/MyDrive/data' #modify as needed"
      ]
    },
    {
      "cell_type": "code",
      "execution_count": 4,
      "metadata": {
        "id": "o1wLkt5Cckaw"
      },
      "outputs": [],
      "source": [
        "# # TESTING THAT A VIDEO CAN BE READ\n",
        "# # Create a VideoCapture object\n",
        "# cap = cv2.VideoCapture(directory + '/' + 'Violence' + '/' + 'Violence001.avi')\n",
        "\n",
        "# # Check if camera opened successfully\n",
        "# if (cap.isOpened()== False):\n",
        "#     print(\"Error opening video file\")\n",
        "\n",
        "# # Read until video is completed\n",
        "# while(cap.isOpened()):\n",
        "#     # Capture frame-by-frame\n",
        "#     ret, frame = cap.read()\n",
        "#     if ret == True:\n",
        "#         # Display the resulting frame\n",
        "#         cv2.imshow('Frame', frame)\n",
        "#         # Press Q on keyboard to exit\n",
        "#         if cv2.waitKey(25) & 0xFF == ord('q'):\n",
        "#             break\n",
        "#     # Break the loop\n",
        "#     else:\n",
        "#         break\n",
        "\n",
        "# # When everything done, release the video capture object\n",
        "# cap.release()\n",
        "\n",
        "# # Closes all the frames\n",
        "# cv2.destroyAllWindows()"
      ]
    },
    {
      "cell_type": "code",
      "execution_count": 5,
      "metadata": {
        "id": "kRh3M_Sockax"
      },
      "outputs": [],
      "source": [
        "def calculate_optical_flow(video_path, frame_skip=4):\n",
        "    cap = cv2.VideoCapture(video_path)\n",
        "    ret, frame1 = cap.read()\n",
        "    prvs = cv2.resize(frame1, (224, 224))\n",
        "    prvs = cv2.cvtColor(prvs, cv2.COLOR_BGR2GRAY)\n",
        "    hsv = np.zeros((prvs.shape[0], prvs.shape[1], 3))\n",
        "    hsv[..., 1] = 255\n",
        "\n",
        "    optical_flows = []  # list to store optical flow of each frame\n",
        "    frame_count = 0\n",
        "    while True:\n",
        "        ret, frame2 = cap.read()\n",
        "        if not ret:\n",
        "            break\n",
        "        frame_count += 1\n",
        "        if frame_count % frame_skip != 0:\n",
        "            continue\n",
        "        next = cv2.resize(frame2, (224, 224))\n",
        "        next = cv2.cvtColor(next, cv2.COLOR_BGR2GRAY)\n",
        "\n",
        "        flow = cv2.calcOpticalFlowFarneback(\n",
        "            prvs, next, None, 0.5, 3, 15, 3, 5, 1.2, 0)\n",
        "        mag, ang = cv2.cartToPolar(flow[..., 0], flow[..., 1])\n",
        "        hsv[..., 0] = ang * 180 / np.pi / 2\n",
        "        hsv[..., 2] = cv2.normalize(mag, None, 0, 255, cv2.NORM_MINMAX)\n",
        "        bgr = cv2.cvtColor(hsv.astype(np.float32), cv2.COLOR_HSV2BGR)\n",
        "        # normalize\n",
        "        # bgr = (bgr - bgr.min()) / (bgr.max() - bgr.min())\n",
        "        optical_flows.append(bgr)  # store optical flow of current frame\n",
        "\n",
        "        prvs = next\n",
        "\n",
        "    cap.release()\n",
        "    return optical_flows  # return list of optical flows"
      ]
    },
    {
      "cell_type": "markdown",
      "metadata": {
        "id": "Y7eIUJk-ckay"
      },
      "source": [
        "### Loading all videos, transforming them into optical flow representations, storing in memory, and creating a training data loader.\n",
        "\n",
        "**Now the model is ready to be trained**"
      ]
    },
    {
      "cell_type": "code",
      "source": [
        "Videos = []\n",
        "labels = []\n",
        "for filename in tqdm(os.listdir(directory)):\n",
        "    if filename.endswith(\".avi\"):  # videos are in .avi format\n",
        "        video_path = os.path.join(directory, filename)\n",
        "        # assuming this now returns a list of optical flows\n",
        "        frame_skip = 4\n",
        "        resultant_frames = 10\n",
        "        optical_flows = calculate_optical_flow(video_path, frame_skip = frame_skip)\n",
        "        if len(optical_flows) < resultant_frames:\n",
        "          padding = [np.zeros_like(optical_flows[0]) for _ in range(resultant_frames - len(optical_flows))]\n",
        "          optical_flows = padding + optical_flows\n",
        "        elif len(optical_flows) > resultant_frames:\n",
        "          optical_flows = optical_flows[:resultant_frames]\n",
        "        # transpose each optical flow\n",
        "        optical_flows = np.stack(\n",
        "            [np.transpose(flow, (2, 0, 1)) for flow in optical_flows])\n",
        "        if filename.startswith('fi'):\n",
        "            Videos.append(optical_flows)\n",
        "            labels.append(0)\n",
        "        elif filename.startswith('no'):\n",
        "            Videos.append(optical_flows)\n",
        "            labels.append(1)\n",
        "data = np.array(Videos, dtype=np.float32)\n",
        "labels = np.array(labels, dtype=np.int64)\n",
        "# split into train ad test data using sklearn\n",
        "from sklearn.model_selection import train_test_split\n",
        "train_data, test_data, train_labels, test_labels = train_test_split(\n",
        "    data, labels, test_size=0.2, random_state=42)\n",
        "# train data\n",
        "# train_data = torch.tensor(train_data).half()\n",
        "train_data = torch.tensor(train_data)\n",
        "train_data = train_data.permute(0, 2, 1, 3, 4)\n",
        "# print(train_data.shape)\n",
        "train_labels = torch.tensor(train_labels).long()\n",
        "train_dataset = TensorDataset(train_data, train_labels)\n",
        "train_loader = DataLoader(train_dataset, batch_size=16, shuffle=True, drop_last=True)\n",
        "print(len(train_loader))\n",
        "print(train_loader.dataset.tensors[0].shape)\n",
        "# test data\n",
        "# test_data = torch.tensor(test_data).half()\n",
        "test_data = torch.tensor(test_data)\n",
        "test_data = test_data.permute(0, 2, 1, 3, 4)\n",
        "# print(test_data.shape)\n",
        "test_labels = torch.tensor(test_labels).long()\n",
        "test_dataset = TensorDataset(test_data, test_labels)\n",
        "test_loader = DataLoader(test_dataset, batch_size=16, shuffle=True, drop_last=True)\n",
        "print(len(test_loader))\n",
        "print(test_loader.dataset.tensors[0].shape)\n",
        "# Save\n",
        "torch.save(train_loader, '/content/drive/My Drive/train_loader.pth')\n",
        "torch.save(test_loader, '/content/drive/My Drive/test_loader.pth')"
      ],
      "metadata": {
        "colab": {
          "base_uri": "https://localhost:8080/"
        },
        "id": "vYT3sgQ9BdQK",
        "outputId": "36cc255f-aa6d-4b5c-f7c6-f2f157c7231a"
      },
      "execution_count": 6,
      "outputs": [
        {
          "output_type": "stream",
          "name": "stderr",
          "text": [
            "100%|██████████| 1000/1000 [03:11<00:00,  5.21it/s]\n"
          ]
        },
        {
          "output_type": "stream",
          "name": "stdout",
          "text": [
            "50\n",
            "torch.Size([800, 3, 10, 224, 224])\n",
            "12\n",
            "torch.Size([200, 3, 10, 224, 224])\n"
          ]
        }
      ]
    },
    {
      "cell_type": "code",
      "source": [
        "# train_loader = torch.load('/content/drive/My Drive/train_loader.pth')\n",
        "# test_loader = torch.load('/content/drive/My Drive/test_loader.pth')\n",
        "# print(len(train_loader))\n",
        "# print(len(test_loader))"
      ],
      "metadata": {
        "id": "BRmk8_ktvEOe"
      },
      "execution_count": 7,
      "outputs": []
    },
    {
      "cell_type": "markdown",
      "metadata": {
        "id": "W2vOplvpcka0"
      },
      "source": [
        "### DenseNet121 model adapted for video data and ConvLSTM added"
      ]
    },
    {
      "cell_type": "code",
      "source": [
        "model = densenet121(pretrained=True)\n",
        "torch.autograd.set_detect_anomaly(True)\n",
        "\n",
        "# DenseBlock 1\n",
        "new_layers = nn.Sequential()\n",
        "for i in range(len(model.features.denseblock1)):\n",
        "    new_layer = nn.Sequential(\n",
        "    nn.BatchNorm3d(4, eps=1e-05, momentum=0.1, affine=True, track_running_stats=True),\n",
        "    nn.ReLU(inplace=True),\n",
        "    nn.Conv3d(4, 8, kernel_size=(1, 1, 1), stride=(1, 1, 1), padding=(1, 1, 1), bias=False),\n",
        "    nn.BatchNorm3d(8, eps=1e-05, momentum=0.1, affine=True, track_running_stats=True),\n",
        "    nn.ReLU(inplace=True),\n",
        "    nn.Conv3d(8, 4, kernel_size=(3, 3, 3), stride=(1, 1, 1), padding=(1, 1, 1), bias=False))\n",
        "    new_layers.add_module(str(i), new_layer)\n",
        "model.features.denseblock1 = new_layers\n",
        "\n",
        "# DenseBlock 2\n",
        "new_layers = nn.Sequential()\n",
        "for i in range(len(model.features.denseblock2)):\n",
        "    new_layer = nn.Sequential(\n",
        "    nn.BatchNorm3d(8, eps=1e-05, momentum=0.1, affine=True, track_running_stats=True),\n",
        "    nn.ReLU(inplace=True),\n",
        "    nn.Conv3d(8, 8, kernel_size=(1, 1, 1), stride=(1, 1, 1), padding=(1, 1, 1), bias=False),\n",
        "    nn.BatchNorm3d(8, eps=1e-05, momentum=0.1, affine=True, track_running_stats=True),\n",
        "    nn.ReLU(inplace=True),\n",
        "    nn.Conv3d(8, 8, kernel_size=(3, 3, 3), stride=(1, 1, 1), padding=(1, 1, 1), bias=False))\n",
        "    new_layers.add_module(str(i), new_layer)\n",
        "model.features.denseblock2 = new_layers\n",
        "\n",
        "# DenseBlock 3\n",
        "new_layers = nn.Sequential()\n",
        "for i in range(len(model.features.denseblock3)):\n",
        "    new_layer = nn.Sequential(\n",
        "    nn.BatchNorm3d(16, eps=1e-05, momentum=0.1, affine=True, track_running_stats=True),\n",
        "    nn.ReLU(inplace=True),\n",
        "    nn.Conv3d(16, 8, kernel_size=(1, 1, 1), stride=(1, 1, 1), padding=(1, 1, 1), bias=False),\n",
        "    nn.BatchNorm3d(8, eps=1e-05, momentum=0.1, affine=True, track_running_stats=True),\n",
        "    nn.ReLU(inplace=True),\n",
        "    nn.Conv3d(8, 16, kernel_size=(3, 3, 3), stride=(1, 1, 1), padding=(1, 1, 1), bias=False))\n",
        "    new_layers.add_module(str(i), new_layer)\n",
        "model.features.denseblock3 = new_layers\n",
        "\n",
        "# DenseBlock 4\n",
        "new_layers = nn.Sequential()\n",
        "for i in range(len(model.features.denseblock4)):\n",
        "    new_layer = nn.Sequential(\n",
        "    nn.BatchNorm3d(32, eps=1e-05, momentum=0.1, affine=True, track_running_stats=True),\n",
        "    nn.ReLU(inplace=True),\n",
        "    nn.Conv3d(32, 8, kernel_size=(1, 1, 1), stride=(1, 1, 1), padding=(1, 1, 1), bias=False),\n",
        "    nn.BatchNorm3d(8, eps=1e-05, momentum=0.1, affine=True, track_running_stats=True),\n",
        "    nn.ReLU(inplace=True),\n",
        "    nn.Conv3d(8, 32, kernel_size=(3, 3, 3), stride=(1, 1, 1), padding=(1, 1, 1), bias=False))\n",
        "    new_layers.add_module(str(i), new_layer)\n",
        "model.features.denseblock4 = new_layers\n",
        "\n",
        "# Transition Layers\n",
        "new_layers = nn.Sequential(\n",
        "    nn.BatchNorm3d(4, eps=1e-05, momentum=0.1, affine=True, track_running_stats=True),\n",
        "    nn.ReLU(inplace=True),\n",
        "    nn.Conv3d(4, 8, kernel_size=(1, 1, 1), stride=(1, 1, 1), padding=(1, 1, 1), bias=False),\n",
        "    nn.AvgPool3d(kernel_size=(2, 2, 2), stride=(2, 2, 2), padding=0))\n",
        "model.features.transition1 = new_layers\n",
        "\n",
        "new_layers = nn.Sequential(\n",
        "    nn.BatchNorm3d(8, eps=1e-05, momentum=0.1,\n",
        "                   affine=True, track_running_stats=True),\n",
        "    nn.ReLU(inplace=True),\n",
        "    nn.Conv3d(8, 16, kernel_size=(1, 1, 1), stride=(\n",
        "        1, 1, 1), padding=(1, 1, 1), bias=False),\n",
        "    nn.AvgPool3d(kernel_size=(2, 2, 2), stride=(2, 2, 2), padding=0))\n",
        "model.features.transition2 = new_layers\n",
        "\n",
        "new_layers = nn.Sequential(\n",
        "    nn.BatchNorm3d(16, eps=1e-05, momentum=0.1,\n",
        "                   affine=True, track_running_stats=True),\n",
        "    nn.ReLU(inplace=True),\n",
        "    nn.Conv3d(16, 32, kernel_size=(1, 1, 1), stride=(\n",
        "        1, 1, 1), padding=(1, 1, 1), bias=False),\n",
        "    nn.AvgPool3d(kernel_size=(2, 2, 2), stride=(2, 2, 2), padding=0))\n",
        "model.features.transition3 = new_layers\n",
        "\n",
        "# Replace the first four layers\n",
        "model.features.conv0 = nn.Conv3d(3, 4, kernel_size=(7, 7, 7), stride=(2, 2, 2), padding=(3, 3, 3), bias=False)\n",
        "model.features.norm0 = nn.BatchNorm3d(4, eps=1e-05, momentum=0.1, affine=True, track_running_stats=True)\n",
        "model.features.relu0 = nn.ReLU(inplace=True)\n",
        "model.features.pool0 = nn.MaxPool3d(kernel_size=3, stride=2, padding=1, dilation=1, ceil_mode=False)\n",
        "model.features.norm5 = nn.BatchNorm3d(32, eps=1e-05, momentum=0.1, affine=True, track_running_stats=True)\n",
        "\n",
        "# Flatten Layer\n",
        "model.add_module('flatten', nn.Flatten())\n",
        "# ConvLSTM Layer\n",
        "model.add_module('convlstm', ConvLSTM(input_dim=32,\n",
        "                                      hidden_dim=[4, 4],\n",
        "                                      kernel_size=(3, 3),\n",
        "                                      num_layers=2,\n",
        "                                      batch_first=True,\n",
        "                                      bias=True,\n",
        "                                      return_all_layers=False))\n",
        "\n",
        "# Classification Layer\n",
        "model.classifier = nn.Linear(2080, 2)\n",
        "\n",
        "# Freeze all parameters\n",
        "for param in model.parameters():\n",
        "    param.requires_grad = True\n",
        "\n",
        "# Unfreeze parameters in ConvLSTM and fc layer\n",
        "for param in model.convlstm.parameters():\n",
        "    param.requires_grad = True\n",
        "\n",
        "for param in model.classifier.parameters():\n",
        "    param.requires_grad = True\n",
        "device = torch.device('cuda' if torch.cuda.is_available() else 'cpu')\n",
        "model = model.to(device)"
      ],
      "metadata": {
        "id": "w9sBvKZ64ZP3",
        "colab": {
          "base_uri": "https://localhost:8080/"
        },
        "outputId": "463b4ed8-7dee-4350-9092-219d9440783f"
      },
      "execution_count": 8,
      "outputs": [
        {
          "output_type": "stream",
          "name": "stderr",
          "text": [
            "/usr/local/lib/python3.10/dist-packages/torchvision/models/_utils.py:208: UserWarning: The parameter 'pretrained' is deprecated since 0.13 and may be removed in the future, please use 'weights' instead.\n",
            "  warnings.warn(\n",
            "/usr/local/lib/python3.10/dist-packages/torchvision/models/_utils.py:223: UserWarning: Arguments other than a weight enum or `None` for 'weights' are deprecated since 0.13 and may be removed in the future. The current behavior is equivalent to passing `weights=DenseNet121_Weights.IMAGENET1K_V1`. You can also use `weights=DenseNet121_Weights.DEFAULT` to get the most up-to-date weights.\n",
            "  warnings.warn(msg)\n"
          ]
        }
      ]
    },
    {
      "cell_type": "markdown",
      "metadata": {
        "id": "Dm91DWbNcka1"
      },
      "source": [
        "**The cell below tests that the model is working as expected**"
      ]
    },
    {
      "cell_type": "code",
      "execution_count": 9,
      "metadata": {
        "id": "v5gmo2xlcka2",
        "colab": {
          "base_uri": "https://localhost:8080/"
        },
        "outputId": "43653e30-998a-4287-a320-ee0c7953c27c"
      },
      "outputs": [
        {
          "output_type": "stream",
          "name": "stdout",
          "text": [
            "torch.Size([1, 3, 10, 224, 224])\n",
            "torch.Size([1, 2])\n"
          ]
        }
      ],
      "source": [
        "# Test model on one optical flow example\n",
        "# test_vid_path = directory + '/' + 'Violence' + '/' + 'Violence001.avi'\n",
        "test_vid_path = directory + '/' + 'fi8_xvid.avi'\n",
        "test_optical_flow = calculate_optical_flow(test_vid_path, 4)\n",
        "# assuming this now returns a list of optical flows\n",
        "test_optical_flow = np.stack([np.transpose(flow, (2, 0, 1))\n",
        "                             for flow in test_optical_flow])\n",
        "# test_optical_flow = torch.tensor(test_optical_flow).half().unsqueeze(0)\n",
        "test_optical_flow = torch.tensor(test_optical_flow).unsqueeze(0)\n",
        "test_optical_flow = test_optical_flow.permute(0, 2, 1, 3, 4)\n",
        "test_optical_flow = test_optical_flow.to(device)\n",
        "print(test_optical_flow.shape)\n",
        "torch.cuda.empty_cache()\n",
        "output = model(test_optical_flow)\n",
        "print(output.shape)\n",
        "torch.cuda.empty_cache()"
      ]
    },
    {
      "cell_type": "markdown",
      "metadata": {
        "id": "IaF0x504cka2"
      },
      "source": [
        "## Training the model"
      ]
    },
    {
      "cell_type": "code",
      "execution_count": 10,
      "metadata": {
        "id": "ot37UrSncka3",
        "colab": {
          "base_uri": "https://localhost:8080/"
        },
        "outputId": "71be5cc7-9a7a-4d48-dbf1-4cee2dc860d7"
      },
      "outputs": [
        {
          "output_type": "stream",
          "name": "stdout",
          "text": [
            "Epoch 1/250, Loss: 0.7135077393054963, Accuracy: 56.875\n",
            "Epoch 2/250, Loss: 0.6722029280662537, Accuracy: 59.75\n",
            "Epoch 3/250, Loss: 0.653733812570572, Accuracy: 61.0\n",
            "Epoch 4/250, Loss: 0.6652146589756012, Accuracy: 60.125\n",
            "Epoch 5/250, Loss: 0.6559000873565674, Accuracy: 61.75\n",
            "Epoch 6/250, Loss: 0.6324013125896454, Accuracy: 63.125\n",
            "Epoch 7/250, Loss: 0.6304508596658707, Accuracy: 64.125\n",
            "Epoch 8/250, Loss: 0.6448772072792053, Accuracy: 62.75\n",
            "Epoch 9/250, Loss: 0.6366161233186722, Accuracy: 64.25\n",
            "Epoch 10/250, Loss: 0.6246780610084534, Accuracy: 66.125\n",
            "Epoch 11/250, Loss: 0.610544559955597, Accuracy: 67.625\n",
            "Epoch 12/250, Loss: 0.6039233982563019, Accuracy: 68.125\n",
            "Epoch 13/250, Loss: 0.5986298453807831, Accuracy: 69.375\n",
            "Epoch 14/250, Loss: 0.5889511644840241, Accuracy: 67.875\n",
            "Epoch 15/250, Loss: 0.5878440397977829, Accuracy: 69.625\n",
            "Epoch 16/250, Loss: 0.5784329545497894, Accuracy: 69.625\n",
            "Epoch 17/250, Loss: 0.5791513508558274, Accuracy: 70.875\n",
            "Epoch 18/250, Loss: 0.5778335154056549, Accuracy: 70.0\n",
            "Epoch 19/250, Loss: 0.5831655532121658, Accuracy: 69.875\n",
            "Epoch 20/250, Loss: 0.5844456565380096, Accuracy: 68.875\n",
            "Epoch 21/250, Loss: 0.583275905251503, Accuracy: 69.875\n",
            "Epoch 22/250, Loss: 0.5678776913881302, Accuracy: 72.125\n",
            "Epoch 23/250, Loss: 0.5786658906936646, Accuracy: 70.375\n",
            "Epoch 24/250, Loss: 0.5655899631977082, Accuracy: 72.0\n",
            "Epoch 25/250, Loss: 0.5655639106035233, Accuracy: 71.75\n",
            "Epoch 26/250, Loss: 0.5504427391290665, Accuracy: 73.5\n",
            "Epoch 27/250, Loss: 0.5547875940799714, Accuracy: 73.25\n",
            "Epoch 28/250, Loss: 0.5507054966688156, Accuracy: 72.875\n",
            "Epoch 29/250, Loss: 0.5429701417684555, Accuracy: 72.625\n",
            "Epoch 30/250, Loss: 0.5615073329210282, Accuracy: 70.875\n",
            "Epoch 31/250, Loss: 0.5516414481401444, Accuracy: 71.625\n",
            "Epoch 32/250, Loss: 0.5505483025312423, Accuracy: 73.25\n",
            "Epoch 33/250, Loss: 0.5494389826059342, Accuracy: 73.25\n",
            "Epoch 34/250, Loss: 0.5498139107227326, Accuracy: 72.75\n",
            "Epoch 35/250, Loss: 0.5366613763570786, Accuracy: 73.25\n",
            "Epoch 36/250, Loss: 0.5405975329875946, Accuracy: 72.625\n",
            "Epoch 37/250, Loss: 0.5229948490858078, Accuracy: 72.5\n",
            "Epoch 38/250, Loss: 0.5209929382801056, Accuracy: 75.625\n",
            "Epoch 39/250, Loss: 0.530013512969017, Accuracy: 74.875\n",
            "Epoch 40/250, Loss: 0.5191728490591049, Accuracy: 74.75\n",
            "Epoch 41/250, Loss: 0.5280020293593407, Accuracy: 72.5\n",
            "Epoch 42/250, Loss: 0.5720827442407608, Accuracy: 70.125\n",
            "Epoch 43/250, Loss: 0.5692225086688996, Accuracy: 71.625\n",
            "Epoch 44/250, Loss: 0.5379152774810791, Accuracy: 73.125\n",
            "Epoch 45/250, Loss: 0.533313472867012, Accuracy: 73.5\n",
            "Epoch 46/250, Loss: 0.5474084806442261, Accuracy: 72.75\n",
            "Epoch 47/250, Loss: 0.5386378866434097, Accuracy: 71.625\n",
            "Epoch 48/250, Loss: 0.5260198295116425, Accuracy: 73.0\n",
            "Epoch 49/250, Loss: 0.5254184275865554, Accuracy: 73.5\n",
            "Epoch 50/250, Loss: 0.515434912443161, Accuracy: 73.875\n",
            "Epoch 51/250, Loss: 0.5010582837462425, Accuracy: 75.375\n",
            "Epoch 52/250, Loss: 0.5151606947183609, Accuracy: 75.5\n",
            "Epoch 53/250, Loss: 0.5214836460351944, Accuracy: 74.875\n",
            "Epoch 54/250, Loss: 0.5176015681028366, Accuracy: 74.375\n",
            "Epoch 55/250, Loss: 0.4911387938261032, Accuracy: 76.25\n",
            "Epoch 56/250, Loss: 0.509793643951416, Accuracy: 75.125\n",
            "Epoch 57/250, Loss: 0.5516211974620819, Accuracy: 72.75\n",
            "Epoch 58/250, Loss: 0.5169997245073319, Accuracy: 72.75\n",
            "Epoch 59/250, Loss: 0.49649687826633454, Accuracy: 77.5\n",
            "Epoch 60/250, Loss: 0.4757875156402588, Accuracy: 77.125\n",
            "Epoch 61/250, Loss: 0.47274066269397735, Accuracy: 76.75\n",
            "Epoch 62/250, Loss: 0.480043483376503, Accuracy: 76.625\n",
            "Epoch 63/250, Loss: 0.4808859348297119, Accuracy: 77.0\n",
            "Epoch 64/250, Loss: 0.46802388697862624, Accuracy: 78.625\n",
            "Epoch 65/250, Loss: 0.47424727350473406, Accuracy: 77.375\n",
            "Epoch 66/250, Loss: 0.47644094467163084, Accuracy: 77.5\n",
            "Epoch 67/250, Loss: 0.48332985877990725, Accuracy: 76.75\n",
            "Epoch 68/250, Loss: 0.44356183290481566, Accuracy: 80.625\n",
            "Epoch 69/250, Loss: 0.46506495386362073, Accuracy: 78.25\n",
            "Epoch 70/250, Loss: 0.4436229544878006, Accuracy: 79.875\n",
            "Epoch 71/250, Loss: 0.46217928469181063, Accuracy: 78.5\n",
            "Epoch 72/250, Loss: 0.49183481812477114, Accuracy: 78.75\n",
            "Epoch 73/250, Loss: 0.4505524331331253, Accuracy: 80.375\n",
            "Epoch 74/250, Loss: 0.4524982437491417, Accuracy: 78.625\n",
            "Epoch 75/250, Loss: 0.4526915493607521, Accuracy: 78.0\n",
            "Epoch 76/250, Loss: 0.48804954916238785, Accuracy: 76.5\n",
            "Epoch 77/250, Loss: 0.4333393093943596, Accuracy: 79.375\n",
            "Epoch 78/250, Loss: 0.4261304175853729, Accuracy: 80.875\n",
            "Epoch 79/250, Loss: 0.43182903945446016, Accuracy: 80.625\n",
            "Epoch 80/250, Loss: 0.4067004814743996, Accuracy: 82.0\n",
            "Epoch 81/250, Loss: 0.4308971855044365, Accuracy: 80.0\n",
            "Epoch 82/250, Loss: 0.4371603673696518, Accuracy: 79.625\n",
            "Epoch 83/250, Loss: 0.43176141530275347, Accuracy: 81.0\n",
            "Epoch 84/250, Loss: 0.43939052045345306, Accuracy: 81.375\n",
            "Epoch 85/250, Loss: 0.3966542199254036, Accuracy: 81.5\n",
            "Epoch 86/250, Loss: 0.4052652508020401, Accuracy: 82.875\n",
            "Epoch 87/250, Loss: 0.4360761749744415, Accuracy: 80.75\n",
            "Epoch 88/250, Loss: 0.44467594861984255, Accuracy: 79.375\n",
            "Epoch 89/250, Loss: 0.4075672647356987, Accuracy: 81.375\n",
            "Epoch 90/250, Loss: 0.421762660741806, Accuracy: 82.25\n",
            "Epoch 91/250, Loss: 0.4110614249110222, Accuracy: 81.25\n",
            "Epoch 92/250, Loss: 0.41623218029737474, Accuracy: 81.0\n",
            "Epoch 93/250, Loss: 0.4186133605241775, Accuracy: 80.5\n",
            "Epoch 94/250, Loss: 0.38080585151910784, Accuracy: 82.75\n",
            "Epoch 95/250, Loss: 0.4038360723853111, Accuracy: 82.125\n",
            "Epoch 96/250, Loss: 0.40276194632053375, Accuracy: 82.375\n",
            "Epoch 97/250, Loss: 0.4111645543575287, Accuracy: 82.25\n",
            "Epoch 98/250, Loss: 0.37333454728126525, Accuracy: 83.5\n",
            "Epoch 99/250, Loss: 0.39884864300489425, Accuracy: 82.0\n",
            "Epoch 100/250, Loss: 0.38270459532737733, Accuracy: 84.0\n",
            "Epoch 101/250, Loss: 0.38077973544597626, Accuracy: 82.375\n",
            "Epoch 102/250, Loss: 0.42738468170166016, Accuracy: 80.375\n",
            "Epoch 103/250, Loss: 0.4134165367484093, Accuracy: 81.0\n",
            "Epoch 104/250, Loss: 0.3889599326252937, Accuracy: 83.25\n",
            "Epoch 105/250, Loss: 0.3702255055308342, Accuracy: 85.0\n",
            "Epoch 106/250, Loss: 0.36176081478595734, Accuracy: 84.125\n",
            "Epoch 107/250, Loss: 0.3682590688765049, Accuracy: 84.25\n",
            "Epoch 108/250, Loss: 0.3512965525686741, Accuracy: 85.375\n",
            "Epoch 109/250, Loss: 0.3870175421237946, Accuracy: 82.625\n",
            "Epoch 110/250, Loss: 0.369171295017004, Accuracy: 83.625\n",
            "Epoch 111/250, Loss: 0.3527025479078293, Accuracy: 85.5\n",
            "Epoch 112/250, Loss: 0.42841116070747376, Accuracy: 81.75\n",
            "Epoch 113/250, Loss: 0.3992321166396141, Accuracy: 83.5\n",
            "Epoch 114/250, Loss: 0.38662807136774063, Accuracy: 82.625\n",
            "Epoch 115/250, Loss: 0.3546402806043625, Accuracy: 84.875\n",
            "Epoch 116/250, Loss: 0.37666649609804154, Accuracy: 84.375\n",
            "Epoch 117/250, Loss: 0.3470556789636612, Accuracy: 85.75\n",
            "Epoch 118/250, Loss: 0.34420720681548117, Accuracy: 85.5\n",
            "Epoch 119/250, Loss: 0.3409915220737457, Accuracy: 86.0\n",
            "Epoch 120/250, Loss: 0.3908889338374138, Accuracy: 81.5\n",
            "Epoch 121/250, Loss: 0.3695748522877693, Accuracy: 85.5\n",
            "Epoch 122/250, Loss: 0.3449407911300659, Accuracy: 85.75\n",
            "Epoch 123/250, Loss: 0.39107793688774106, Accuracy: 83.375\n",
            "Epoch 124/250, Loss: 0.33596765965223313, Accuracy: 86.625\n",
            "Epoch 125/250, Loss: 0.3504474085569382, Accuracy: 85.125\n",
            "Epoch 126/250, Loss: 0.33613651379942894, Accuracy: 86.625\n",
            "Epoch 127/250, Loss: 0.3478712941706181, Accuracy: 84.625\n",
            "Epoch 128/250, Loss: 0.3062708342075348, Accuracy: 87.375\n",
            "Epoch 129/250, Loss: 0.32243644192814824, Accuracy: 86.75\n",
            "Epoch 130/250, Loss: 0.3183847963809967, Accuracy: 88.25\n",
            "Epoch 131/250, Loss: 0.32802398726344106, Accuracy: 86.625\n",
            "Epoch 132/250, Loss: 0.36133976712822913, Accuracy: 84.25\n",
            "Epoch 133/250, Loss: 0.32197323128581046, Accuracy: 87.875\n",
            "Epoch 134/250, Loss: 0.3474383160471916, Accuracy: 84.5\n",
            "Epoch 135/250, Loss: 0.35072056740522384, Accuracy: 85.5\n",
            "Epoch 136/250, Loss: 0.3437653389573097, Accuracy: 85.75\n",
            "Epoch 137/250, Loss: 0.3025486256182194, Accuracy: 88.125\n",
            "Epoch 138/250, Loss: 0.3391380722820759, Accuracy: 85.625\n",
            "Epoch 139/250, Loss: 0.3290278773009777, Accuracy: 85.875\n",
            "Epoch 140/250, Loss: 0.36788761407136916, Accuracy: 84.875\n",
            "Epoch 141/250, Loss: 0.3585374081134796, Accuracy: 84.375\n",
            "Epoch 142/250, Loss: 0.3161994469165802, Accuracy: 87.875\n",
            "Epoch 143/250, Loss: 0.3884806904196739, Accuracy: 82.625\n",
            "Epoch 144/250, Loss: 0.32500155255198476, Accuracy: 86.25\n",
            "Epoch 145/250, Loss: 0.32978531196713445, Accuracy: 86.625\n",
            "Epoch 146/250, Loss: 0.3390666802227497, Accuracy: 87.375\n",
            "Epoch 147/250, Loss: 0.352220009714365, Accuracy: 85.25\n",
            "Epoch 148/250, Loss: 0.3157806806266308, Accuracy: 87.25\n",
            "Epoch 149/250, Loss: 0.30771911412477493, Accuracy: 86.5\n",
            "Epoch 150/250, Loss: 0.30095263823866847, Accuracy: 87.625\n",
            "Epoch 151/250, Loss: 0.34762793391942975, Accuracy: 85.375\n",
            "Epoch 152/250, Loss: 0.29662417456507684, Accuracy: 87.875\n",
            "Epoch 153/250, Loss: 0.3516771030426025, Accuracy: 84.5\n",
            "Epoch 154/250, Loss: 0.34149609357118604, Accuracy: 85.75\n",
            "Epoch 155/250, Loss: 0.33126154497265814, Accuracy: 87.375\n",
            "Epoch 156/250, Loss: 0.2761754977703095, Accuracy: 88.5\n",
            "Epoch 157/250, Loss: 0.35987902685999873, Accuracy: 86.0\n",
            "Epoch 158/250, Loss: 0.35474036023020744, Accuracy: 84.625\n",
            "Epoch 159/250, Loss: 0.3307500696182251, Accuracy: 87.125\n",
            "Epoch 160/250, Loss: 0.3146841245889664, Accuracy: 88.0\n",
            "Epoch 161/250, Loss: 0.29688234940171243, Accuracy: 87.625\n",
            "Epoch 162/250, Loss: 0.30635668590664866, Accuracy: 87.75\n",
            "Epoch 163/250, Loss: 0.3618838660418987, Accuracy: 83.75\n",
            "Epoch 164/250, Loss: 0.32366309776902197, Accuracy: 87.0\n",
            "Epoch 165/250, Loss: 0.30038089632987974, Accuracy: 87.875\n",
            "Epoch 166/250, Loss: 0.28431048020720484, Accuracy: 88.25\n",
            "Epoch 167/250, Loss: 0.293772411942482, Accuracy: 88.25\n",
            "Epoch 168/250, Loss: 0.2808619257807732, Accuracy: 87.625\n",
            "Epoch 169/250, Loss: 0.3059234102070332, Accuracy: 87.75\n",
            "Epoch 170/250, Loss: 0.337634996175766, Accuracy: 85.625\n",
            "Epoch 171/250, Loss: 0.31029581010341645, Accuracy: 87.5\n",
            "Epoch 172/250, Loss: 0.45177505642175675, Accuracy: 80.75\n",
            "Epoch 173/250, Loss: 0.3936871734261513, Accuracy: 83.375\n",
            "Epoch 174/250, Loss: 0.3827561084926128, Accuracy: 83.0\n",
            "Epoch 175/250, Loss: 0.3252131056785583, Accuracy: 86.125\n",
            "Epoch 176/250, Loss: 0.35184057176113126, Accuracy: 84.75\n",
            "Epoch 177/250, Loss: 0.3391807320713997, Accuracy: 85.25\n",
            "Epoch 178/250, Loss: 0.2915576112270355, Accuracy: 87.5\n",
            "Epoch 179/250, Loss: 0.28746382862329484, Accuracy: 88.5\n",
            "Epoch 180/250, Loss: 0.2915536712110043, Accuracy: 87.875\n",
            "Epoch 181/250, Loss: 0.2956140761077404, Accuracy: 88.5\n",
            "Epoch 182/250, Loss: 0.29746942088007927, Accuracy: 87.875\n",
            "Epoch 183/250, Loss: 0.27142680421471593, Accuracy: 90.375\n",
            "Epoch 184/250, Loss: 0.29732222452759743, Accuracy: 87.75\n",
            "Epoch 185/250, Loss: 0.2850323884189129, Accuracy: 88.875\n",
            "Epoch 186/250, Loss: 0.2982403218746185, Accuracy: 87.125\n",
            "Epoch 187/250, Loss: 0.3293820513784885, Accuracy: 86.125\n",
            "Epoch 188/250, Loss: 0.2945893234014511, Accuracy: 87.0\n",
            "Epoch 189/250, Loss: 0.31629315033555033, Accuracy: 86.125\n",
            "Epoch 190/250, Loss: 0.29874022379517556, Accuracy: 86.875\n",
            "Epoch 191/250, Loss: 0.29351783528923986, Accuracy: 88.125\n",
            "Epoch 192/250, Loss: 0.30281544476747513, Accuracy: 87.875\n",
            "Epoch 193/250, Loss: 0.27582162857055664, Accuracy: 89.75\n",
            "Epoch 194/250, Loss: 0.31238109186291696, Accuracy: 85.25\n",
            "Epoch 195/250, Loss: 0.2690575781464577, Accuracy: 89.375\n",
            "Epoch 196/250, Loss: 0.30685919731855393, Accuracy: 89.125\n",
            "Epoch 197/250, Loss: 0.24535993203520776, Accuracy: 90.125\n",
            "Epoch 198/250, Loss: 0.24879004269838334, Accuracy: 90.375\n",
            "Epoch 199/250, Loss: 0.2992681188881397, Accuracy: 87.625\n",
            "Epoch 200/250, Loss: 0.26740350261330603, Accuracy: 89.0\n",
            "Epoch 201/250, Loss: 0.2737762407958508, Accuracy: 88.0\n",
            "Epoch 202/250, Loss: 0.2693857154250145, Accuracy: 88.625\n",
            "Epoch 203/250, Loss: 0.23544684134423732, Accuracy: 89.875\n",
            "Epoch 204/250, Loss: 0.2979238533973694, Accuracy: 87.625\n",
            "Epoch 205/250, Loss: 0.2543297212570906, Accuracy: 89.5\n",
            "Epoch 206/250, Loss: 0.23487429067492485, Accuracy: 90.75\n",
            "Epoch 207/250, Loss: 0.2698508867621422, Accuracy: 89.0\n",
            "Epoch 208/250, Loss: 0.315634046792984, Accuracy: 86.875\n",
            "Epoch 209/250, Loss: 0.27796728804707527, Accuracy: 87.75\n",
            "Epoch 210/250, Loss: 0.27016169086098674, Accuracy: 89.25\n",
            "Epoch 211/250, Loss: 0.3069594958424568, Accuracy: 88.0\n",
            "Epoch 212/250, Loss: 0.2431679090857506, Accuracy: 90.75\n",
            "Epoch 213/250, Loss: 0.24883160255849363, Accuracy: 90.25\n",
            "Epoch 214/250, Loss: 0.27055371932685374, Accuracy: 88.875\n",
            "Epoch 215/250, Loss: 0.2588393794745207, Accuracy: 90.5\n",
            "Epoch 216/250, Loss: 0.2549659649282694, Accuracy: 90.375\n",
            "Epoch 217/250, Loss: 0.28180027432739735, Accuracy: 87.375\n",
            "Epoch 218/250, Loss: 0.23752787038683892, Accuracy: 91.25\n",
            "Epoch 219/250, Loss: 0.22058970645070075, Accuracy: 91.5\n",
            "Epoch 220/250, Loss: 0.2426740151643753, Accuracy: 90.75\n",
            "Epoch 221/250, Loss: 0.23481929957866668, Accuracy: 90.5\n",
            "Epoch 222/250, Loss: 0.2505587008595467, Accuracy: 91.0\n",
            "Epoch 223/250, Loss: 0.2141784344613552, Accuracy: 91.875\n",
            "Epoch 224/250, Loss: 0.2537161844968796, Accuracy: 90.5\n",
            "Epoch 225/250, Loss: 0.22877053391188384, Accuracy: 90.625\n",
            "Epoch 226/250, Loss: 0.27066103532910346, Accuracy: 89.0\n",
            "Epoch 227/250, Loss: 0.3133438029885292, Accuracy: 86.875\n",
            "Epoch 228/250, Loss: 0.26491706058382986, Accuracy: 88.625\n",
            "Epoch 229/250, Loss: 0.2445988504216075, Accuracy: 89.875\n",
            "Epoch 230/250, Loss: 0.29055996038019655, Accuracy: 87.25\n",
            "Epoch 231/250, Loss: 0.30342294201254844, Accuracy: 86.875\n",
            "Epoch 232/250, Loss: 0.24620859898626804, Accuracy: 90.0\n",
            "Epoch 233/250, Loss: 0.2274048475921154, Accuracy: 90.75\n",
            "Epoch 234/250, Loss: 0.26015059620141984, Accuracy: 89.875\n",
            "Epoch 235/250, Loss: 0.23985745191574095, Accuracy: 90.75\n",
            "Epoch 236/250, Loss: 0.2838448429107666, Accuracy: 88.0\n",
            "Epoch 237/250, Loss: 0.2397064320743084, Accuracy: 90.375\n",
            "Epoch 238/250, Loss: 0.21558869577944278, Accuracy: 91.125\n",
            "Epoch 239/250, Loss: 0.2411025021970272, Accuracy: 90.25\n",
            "Epoch 240/250, Loss: 0.19396430734544992, Accuracy: 92.875\n",
            "Epoch 241/250, Loss: 0.20167895007878542, Accuracy: 92.0\n",
            "Epoch 242/250, Loss: 0.29029466956853867, Accuracy: 88.0\n",
            "Epoch 243/250, Loss: 0.19462242767214774, Accuracy: 92.0\n",
            "Epoch 244/250, Loss: 0.21567927323281766, Accuracy: 91.5\n",
            "Epoch 245/250, Loss: 0.25171459078788755, Accuracy: 90.0\n",
            "Epoch 246/250, Loss: 0.2161835326626897, Accuracy: 91.5\n",
            "Epoch 247/250, Loss: 0.25439033046364784, Accuracy: 90.75\n",
            "Epoch 248/250, Loss: 0.24493841119110585, Accuracy: 90.75\n",
            "Epoch 249/250, Loss: 0.2106986642256379, Accuracy: 92.75\n",
            "Epoch 250/250, Loss: 0.27945955470204353, Accuracy: 88.25\n"
          ]
        }
      ],
      "source": [
        "optimizer = optim.Adam(model.parameters(), lr=0.01, weight_decay=1e-5)\n",
        "lossfun = nn.CrossEntropyLoss()\n",
        "# number of epochs\n",
        "numepochs = 250\n",
        "# create a new model\n",
        "# initialize losses\n",
        "losses = []\n",
        "trainAcc = []\n",
        "# loop over epochs\n",
        "for epochi in range(numepochs):\n",
        "  torch.cuda.empty_cache() # clear cache\n",
        "  # switch on training mode\n",
        "  model.train()\n",
        "\n",
        "  # loop over training data batches\n",
        "  batchAcc = []\n",
        "  batchLoss = []\n",
        "  for X, y in train_loader:\n",
        "    X = X.to(device)\n",
        "    y = y.to(device)\n",
        "    # forward pass and loss\n",
        "    yHat = model(X)\n",
        "    # print(yHat.isnan().any())\n",
        "    loss = lossfun(yHat, y)\n",
        "\n",
        "    # backprop\n",
        "    optimizer.zero_grad()\n",
        "    loss.backward()\n",
        "    optimizer.step()\n",
        "    # print(loss.item())\n",
        "    # loss from this batch\n",
        "    batchLoss.append(loss.item())\n",
        "    # compute accuracy\n",
        "    batchAcc.append(\n",
        "        100*torch.mean((torch.argmax(yHat, axis=1) == y).float()).item())\n",
        "    torch.cuda.empty_cache()\n",
        "  # end of batch loop...\n",
        "\n",
        "  # now that we've trained through the batches, get their average training accuracy\n",
        "  trainAcc.append(np.mean(batchAcc))\n",
        "\n",
        "  # and get average losses across the batches\n",
        "  losses.append(np.mean(batchLoss))\n",
        "\n",
        "  print(\n",
        "      f'Epoch {epochi+1}/{numepochs}, Loss: {losses[-1]}, Accuracy: {trainAcc[-1]}')\n",
        "# end epochs\n",
        "# output"
      ]
    },
    {
      "cell_type": "code",
      "execution_count": 16,
      "metadata": {
        "id": "wn4elbSNcka3"
      },
      "outputs": [],
      "source": [
        "# # Save the model\n",
        "torch.save(model.state_dict(), '/content/drive/My Drive/model.pth')"
      ]
    },
    {
      "cell_type": "markdown",
      "metadata": {
        "id": "X1WcRHimcka4"
      },
      "source": [
        "## Testing Model Performance\n",
        "**If model has been trained (or trained and the model is saved in a pth file), run the cells below**"
      ]
    },
    {
      "cell_type": "code",
      "execution_count": 12,
      "metadata": {
        "id": "l-1a8vG1cka5"
      },
      "outputs": [],
      "source": [
        "# # Uncomment this cell only if you have the saved model and wish to load it. Note: model variable must be initialized above before loading the model\n",
        "# def getSavedModel():\n",
        "#     model.load_state_dict(torch.load('model.pth'))\n",
        "#     return model\n",
        "# model = getSavedModel()\n"
      ]
    },
    {
      "cell_type": "markdown",
      "metadata": {
        "id": "260DnkxVcka5"
      },
      "source": [
        "**Get predictions using test data**"
      ]
    },
    {
      "cell_type": "code",
      "execution_count": 13,
      "metadata": {
        "id": "NCJijHIEcka6",
        "colab": {
          "base_uri": "https://localhost:8080/",
          "height": 656
        },
        "outputId": "179cd5d3-0386-41e3-8cb0-d8123cd25a49"
      },
      "outputs": [
        {
          "output_type": "stream",
          "name": "stdout",
          "text": [
            "              precision    recall  f1-score   support\n",
            "\n",
            "           0       1.00      0.04      0.08        91\n",
            "           1       0.54      1.00      0.70       101\n",
            "\n",
            "    accuracy                           0.55       192\n",
            "   macro avg       0.77      0.52      0.39       192\n",
            "weighted avg       0.76      0.55      0.41       192\n",
            "\n",
            "Accuracy: 0.546875\n",
            "F1: 0.40759538335458023\n",
            "Precision: 0.7565658244680851\n",
            "Recall: 0.546875\n"
          ]
        },
        {
          "output_type": "display_data",
          "data": {
            "text/plain": [
              "<Figure size 640x480 with 1 Axes>"
            ],
            "image/png": "[encoded data removed]"
          },
          "metadata": {}
        }
      ],
      "source": [
        "model.eval()\n",
        "device = torch.device('cuda' if torch.cuda.is_available() else 'cpu')\n",
        "model = model.to(device)\n",
        "testAcc = []\n",
        "with torch.no_grad():\n",
        "    yTrue = []\n",
        "    yPred = []\n",
        "    batchAcc = []\n",
        "    for inputs, labels in test_loader:\n",
        "        inputs = inputs.to(device)\n",
        "        labels = labels.to(device)\n",
        "        outputs = model(inputs)\n",
        "        batchAcc.append(100*torch.mean((torch.argmax(outputs, axis=1) == labels).float()).item())\n",
        "        yTrue.extend(labels.cpu().numpy())\n",
        "        yPred.extend(torch.argmax(outputs, axis=1).cpu().numpy())\n",
        "    testAcc.append(np.mean(batchAcc))\n",
        "print(classification_report(yTrue, yPred))\n",
        "print('Accuracy:', accuracy_score(yTrue, yPred))\n",
        "print('F1:', f1_score(yTrue, yPred, average='weighted'))\n",
        "print('Precision:', precision_score(yTrue, yPred, average='weighted'))\n",
        "print('Recall:', recall_score(yTrue, yPred, average='weighted'))\n",
        "sns.heatmap(confusion_matrix(yTrue, yPred), annot=True, fmt='d', cmap='Blues', cbar=False, xticklabels=['Violence', 'Normal'], yticklabels=['Violence', 'Normal'])\n",
        "plt.show()"
      ]
    },
    {
      "cell_type": "markdown",
      "metadata": {
        "id": "Kha3r6wAcka7"
      },
      "source": [
        "**Do not run the cell below if you did not train the model prior**"
      ]
    },
    {
      "cell_type": "code",
      "execution_count": 15,
      "metadata": {
        "id": "1yYF1Jd8cka7",
        "colab": {
          "base_uri": "https://localhost:8080/",
          "height": 487
        },
        "outputId": "74bd1c30-2501-405f-d668-22e731c3b305"
      },
      "outputs": [
        {
          "output_type": "display_data",
          "data": {
            "text/plain": [
              "<Figure size 1000x500 with 2 Axes>"
            ],
            "image/png": "[encoded data removed]"
          },
          "metadata": {}
        }
      ],
      "source": [
        "# DO NOT RUN THIS CELL IF YOU LOADED THE MODEL AND DID NOT TRAIN IT AS TRAINACC & LOSSES WILL BE UNDEFINED\n",
        "# Plot trainAcc and losses\n",
        "plt.figure(figsize=(10, 5))\n",
        "plt.subplot(1, 2, 1)\n",
        "plt.plot(trainAcc)\n",
        "plt.title('Training Accuracy')\n",
        "plt.xlabel('Epoch')\n",
        "plt.ylabel('Accuracy (%)')\n",
        "plt.subplot(1, 2, 2)\n",
        "plt.plot(losses)\n",
        "plt.title('Training Loss')\n",
        "plt.xlabel('Epoch')\n",
        "plt.ylabel('Loss')\n",
        "plt.show()"
      ]
    },
    {
      "cell_type": "code",
      "source": [],
      "metadata": {
        "id": "P6ZKAC3RHYeG"
      },
      "execution_count": null,
      "outputs": []
    }
  ],
  "metadata": {
    "accelerator": "GPU",
    "colab": {
      "gpuType": "A100",
      "machine_shape": "hm",
      "provenance": []
    },
    "kernelspec": {
      "display_name": "Python 3",
      "name": "python3"
    },
    "language_info": {
      "codemirror_mode": {
        "name": "ipython",
        "version": 3
      },
      "file_extension": ".py",
      "mimetype": "text/x-python",
      "name": "python",
      "nbconvert_exporter": "python",
      "pygments_lexer": "ipython3",
      "version": "3.11.4"
    }
  },
  "nbformat": 4,
  "nbformat_minor": 0
}